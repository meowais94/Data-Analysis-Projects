{
 "cells": [
  {
   "cell_type": "markdown",
   "id": "5e3d3572-f0cd-4c91-8ae2-78dd16df1385",
   "metadata": {},
   "source": [
    "# NOTE: This notebook is not in final form. There is more to be done to this dataset.\n",
    "# Caution:\n",
    "* The original dataset, [downloaded from Kaggle](https://www.kaggle.com/datasets/gauthamp10/google-playstore-apps), is more than 675MB, due to resources constraint I'm droping the 12 columns below - considering the Objective of our analysis - and the 'NEW DATASET' is 350MB, even then don't exeucte the whole notbook if you don't have 16GB of RAM.\n",
    "# About:\n",
    "* The dataset is about goolge play store apps, having 2.3 million rows and 12 Columns.\n",
    "# Objective:\n",
    "* To deliver insights to understand customer demands better and thus help developers to popularize the product."
   ]
  },
  {
   "cell_type": "code",
   "execution_count": 1,
   "id": "c5a3df21",
   "metadata": {
    "tags": []
   },
   "outputs": [],
   "source": [
    "# The following columns are being dropped from original >675 MB dataset.\n",
    "\n",
    "# cols=['Minimum Installs', 'Maximum Installs',\n",
    "#       'Developer Id', 'Developer Website', 'Developer Email',\n",
    "#       'Privacy Policy', 'Ad Supported', 'In App Purchases', 'Editors Choice', 'Scraped Time'\n",
    "#        'Released', 'Last Updated']"
   ]
  },
  {
   "cell_type": "code",
   "execution_count": 2,
   "id": "4b4eda30-ea54-4427-b247-e78ab10c5e6c",
   "metadata": {
    "tags": []
   },
   "outputs": [],
   "source": [
    "# Importing necessary libraries\n",
    "import pandas as pd\n",
    "import numpy as np\n",
    "import seaborn as sns\n",
    "import matplotlib.pyplot as plt\n",
    "from scipy import stats\n",
    "%matplotlib inline\n",
    "\n",
    "# Set options to be maximum for rows and columns\n",
    "pd.options.display.max_rows=None\n",
    "pd.options.display.max_columns=None\n",
    "\n",
    "# Hide all warnings\n",
    "import warnings\n",
    "warnings.filterwarnings('ignore')"
   ]
  },
  {
   "cell_type": "code",
   "execution_count": 3,
   "id": "a45cd81f-3533-461e-a4ef-894eca5ad346",
   "metadata": {
    "tags": []
   },
   "outputs": [],
   "source": [
    "# Let pandas read the dataset\n",
    "df=pd.read_csv('compressed_gpd.csv')"
   ]
  },
  {
   "cell_type": "code",
   "execution_count": 4,
   "id": "3a8ac071",
   "metadata": {
    "tags": []
   },
   "outputs": [
    {
     "name": "stdout",
     "output_type": "stream",
     "text": [
      "There are 2,312,944 rows and 12 columns in the dataset\n"
     ]
    }
   ],
   "source": [
    "# Printing number of rows and columns in the dataset\n",
    "print(f'There are {df.shape[0]:,} rows and {df.shape[1]:,} columns in the dataset')"
   ]
  },
  {
   "cell_type": "code",
   "execution_count": 5,
   "id": "a36fd93d-7fc4-4ca1-af92-d0b1be48368d",
   "metadata": {
    "tags": []
   },
   "outputs": [
    {
     "data": {
      "text/html": [
       "<div>\n",
       "<style scoped>\n",
       "    .dataframe tbody tr th:only-of-type {\n",
       "        vertical-align: middle;\n",
       "    }\n",
       "\n",
       "    .dataframe tbody tr th {\n",
       "        vertical-align: top;\n",
       "    }\n",
       "\n",
       "    .dataframe thead th {\n",
       "        text-align: right;\n",
       "    }\n",
       "</style>\n",
       "<table border=\"1\" class=\"dataframe\">\n",
       "  <thead>\n",
       "    <tr style=\"text-align: right;\">\n",
       "      <th></th>\n",
       "      <th>App Name</th>\n",
       "      <th>App Id</th>\n",
       "      <th>Category</th>\n",
       "      <th>Rating</th>\n",
       "      <th>Rating Count</th>\n",
       "      <th>Installs</th>\n",
       "      <th>Free</th>\n",
       "      <th>Price</th>\n",
       "      <th>Currency</th>\n",
       "      <th>Size</th>\n",
       "      <th>Minimum Android</th>\n",
       "      <th>Content Rating</th>\n",
       "    </tr>\n",
       "  </thead>\n",
       "  <tbody>\n",
       "    <tr>\n",
       "      <th>0</th>\n",
       "      <td>Gakondo</td>\n",
       "      <td>com.ishakwe.gakondo</td>\n",
       "      <td>Adventure</td>\n",
       "      <td>0.0</td>\n",
       "      <td>0.0</td>\n",
       "      <td>10+</td>\n",
       "      <td>True</td>\n",
       "      <td>0.0</td>\n",
       "      <td>USD</td>\n",
       "      <td>10M</td>\n",
       "      <td>7.1 and up</td>\n",
       "      <td>Everyone</td>\n",
       "    </tr>\n",
       "    <tr>\n",
       "      <th>1</th>\n",
       "      <td>Ampere Battery Info</td>\n",
       "      <td>com.webserveis.batteryinfo</td>\n",
       "      <td>Tools</td>\n",
       "      <td>4.4</td>\n",
       "      <td>64.0</td>\n",
       "      <td>5,000+</td>\n",
       "      <td>True</td>\n",
       "      <td>0.0</td>\n",
       "      <td>USD</td>\n",
       "      <td>2.9M</td>\n",
       "      <td>5.0 and up</td>\n",
       "      <td>Everyone</td>\n",
       "    </tr>\n",
       "    <tr>\n",
       "      <th>2</th>\n",
       "      <td>Vibook</td>\n",
       "      <td>com.doantiepvien.crm</td>\n",
       "      <td>Productivity</td>\n",
       "      <td>0.0</td>\n",
       "      <td>0.0</td>\n",
       "      <td>50+</td>\n",
       "      <td>True</td>\n",
       "      <td>0.0</td>\n",
       "      <td>USD</td>\n",
       "      <td>3.7M</td>\n",
       "      <td>4.0.3 and up</td>\n",
       "      <td>Everyone</td>\n",
       "    </tr>\n",
       "    <tr>\n",
       "      <th>3</th>\n",
       "      <td>Smart City Trichy Public Service Vehicles 17UC...</td>\n",
       "      <td>cst.stJoseph.ug17ucs548</td>\n",
       "      <td>Communication</td>\n",
       "      <td>5.0</td>\n",
       "      <td>5.0</td>\n",
       "      <td>10+</td>\n",
       "      <td>True</td>\n",
       "      <td>0.0</td>\n",
       "      <td>USD</td>\n",
       "      <td>1.8M</td>\n",
       "      <td>4.0.3 and up</td>\n",
       "      <td>Everyone</td>\n",
       "    </tr>\n",
       "    <tr>\n",
       "      <th>4</th>\n",
       "      <td>GROW.me</td>\n",
       "      <td>com.horodyski.grower</td>\n",
       "      <td>Tools</td>\n",
       "      <td>0.0</td>\n",
       "      <td>0.0</td>\n",
       "      <td>100+</td>\n",
       "      <td>True</td>\n",
       "      <td>0.0</td>\n",
       "      <td>USD</td>\n",
       "      <td>6.2M</td>\n",
       "      <td>4.1 and up</td>\n",
       "      <td>Everyone</td>\n",
       "    </tr>\n",
       "  </tbody>\n",
       "</table>\n",
       "</div>"
      ],
      "text/plain": [
       "                                            App Name  \\\n",
       "0                                            Gakondo   \n",
       "1                                Ampere Battery Info   \n",
       "2                                             Vibook   \n",
       "3  Smart City Trichy Public Service Vehicles 17UC...   \n",
       "4                                            GROW.me   \n",
       "\n",
       "                       App Id       Category  Rating  Rating Count Installs  \\\n",
       "0         com.ishakwe.gakondo      Adventure     0.0           0.0      10+   \n",
       "1  com.webserveis.batteryinfo          Tools     4.4          64.0   5,000+   \n",
       "2        com.doantiepvien.crm   Productivity     0.0           0.0      50+   \n",
       "3     cst.stJoseph.ug17ucs548  Communication     5.0           5.0      10+   \n",
       "4        com.horodyski.grower          Tools     0.0           0.0     100+   \n",
       "\n",
       "   Free  Price Currency  Size Minimum Android Content Rating  \n",
       "0  True    0.0      USD   10M      7.1 and up       Everyone  \n",
       "1  True    0.0      USD  2.9M      5.0 and up       Everyone  \n",
       "2  True    0.0      USD  3.7M    4.0.3 and up       Everyone  \n",
       "3  True    0.0      USD  1.8M    4.0.3 and up       Everyone  \n",
       "4  True    0.0      USD  6.2M      4.1 and up       Everyone  "
      ]
     },
     "execution_count": 5,
     "metadata": {},
     "output_type": "execute_result"
    }
   ],
   "source": [
    "# Viewing the top 5 rows\n",
    "df.head()"
   ]
  },
  {
   "cell_type": "code",
   "execution_count": 6,
   "id": "b120735f-2a19-451f-9e5e-de2bc6fa3dfb",
   "metadata": {
    "tags": []
   },
   "outputs": [
    {
     "name": "stdout",
     "output_type": "stream",
     "text": [
      "<class 'pandas.core.frame.DataFrame'>\n",
      "RangeIndex: 2312944 entries, 0 to 2312943\n",
      "Data columns (total 12 columns):\n",
      " #   Column           Dtype  \n",
      "---  ------           -----  \n",
      " 0   App Name         object \n",
      " 1   App Id           object \n",
      " 2   Category         object \n",
      " 3   Rating           float64\n",
      " 4   Rating Count     float64\n",
      " 5   Installs         object \n",
      " 6   Free             bool   \n",
      " 7   Price            float64\n",
      " 8   Currency         object \n",
      " 9   Size             object \n",
      " 10  Minimum Android  object \n",
      " 11  Content Rating   object \n",
      "dtypes: bool(1), float64(3), object(8)\n",
      "memory usage: 196.3+ MB\n"
     ]
    }
   ],
   "source": [
    "# Checking data, about the data i.e., What are the columns, what are their datatypes etc.\n",
    "df.info()"
   ]
  },
  {
   "cell_type": "markdown",
   "id": "fa994189-748a-4029-938c-a866cb684f3a",
   "metadata": {},
   "source": [
    "* Observation:\n",
    "    * There are 2,312,944 rows and 12 columns\n",
    "    * There are 3 numerical columns, 1 boolean column (i.e., data type would be either True or False), and 8 object columns\n",
    "    * Data type of 2 object columns Install, and Size column needs to be changed to numeric."
   ]
  },
  {
   "cell_type": "code",
   "execution_count": 7,
   "id": "7b303ca7-da74-48f2-a834-aeed6d3b3c5d",
   "metadata": {
    "tags": []
   },
   "outputs": [
    {
     "data": {
      "text/plain": [
       "Category          48\n",
       "Free               2\n",
       "Currency          15\n",
       "Content Rating     6\n",
       "dtype: int64"
      ]
     },
     "execution_count": 7,
     "metadata": {},
     "output_type": "execute_result"
    }
   ],
   "source": [
    "# Checking the number of unique values for the mentioned 4 object columns\n",
    "col=['Category', 'Free', 'Currency', 'Content Rating'] # Mentioning columns whose number of unique values are to be observed\n",
    "df[col].nunique()"
   ]
  },
  {
   "cell_type": "code",
   "execution_count": 8,
   "id": "d2c5fd9a-fa3c-42e5-b3c6-b7853ff55117",
   "metadata": {
    "tags": []
   },
   "outputs": [
    {
     "name": "stdout",
     "output_type": "stream",
     "text": [
      "['Adventure' 'Tools' 'Productivity' 'Communication' 'Social'\n",
      " 'Libraries & Demo' 'Lifestyle' 'Personalization' 'Racing'\n",
      " 'Maps & Navigation' 'Travel & Local' 'Food & Drink' 'Books & Reference'\n",
      " 'Medical' 'Puzzle' 'Entertainment' 'Arcade' 'Auto & Vehicles'\n",
      " 'Photography' 'Health & Fitness' 'Education' 'Shopping' 'Board'\n",
      " 'Music & Audio' 'Sports' 'Beauty' 'Business' 'Educational' 'Finance'\n",
      " 'News & Magazines' 'Casual' 'Art & Design' 'House & Home' 'Card' 'Events'\n",
      " 'Trivia' 'Weather' 'Strategy' 'Word' 'Video Players & Editors' 'Action'\n",
      " 'Simulation' 'Music' 'Dating' 'Role Playing' 'Casino' 'Comics'\n",
      " 'Parenting']\n",
      "[ True False]\n",
      "['USD' 'XXX' 'CAD' 'EUR' 'INR' nan 'VND' 'GBP' 'BRL' 'KRW' 'TRY' 'RUB'\n",
      " 'SGD' 'AUD' 'PKR' 'ZAR']\n",
      "['Everyone' 'Teen' 'Mature 17+' 'Everyone 10+' 'Adults only 18+' 'Unrated']\n"
     ]
    }
   ],
   "source": [
    "# Viewing the unique values of 4 object columns\n",
    "col=['Category', 'Free', 'Currency', 'Content Rating'] # Mentioning columns whose unique values are to be observed.\n",
    "for i in col:\n",
    "    print(df[i].unique())"
   ]
  },
  {
   "cell_type": "markdown",
   "id": "14389c92-56e8-4009-af54-be5aabf88432",
   "metadata": {},
   "source": [
    "* Observation: An anomly in Currency column needs to be fixed."
   ]
  },
  {
   "cell_type": "code",
   "execution_count": 9,
   "id": "d7ef28c1-bf73-4e17-8c75-42f590361523",
   "metadata": {
    "tags": []
   },
   "outputs": [
    {
     "data": {
      "text/plain": [
       "Index(['app_name', 'app_id', 'category', 'rating', 'rating_count', 'installs',\n",
       "       'free', 'price', 'currency', 'size', 'minimum_android',\n",
       "       'content_rating'],\n",
       "      dtype='object')"
      ]
     },
     "execution_count": 9,
     "metadata": {},
     "output_type": "execute_result"
    }
   ],
   "source": [
    "# Renaming column names\n",
    "names=[]\n",
    "for i in df.columns:\n",
    "    names.append(i.replace(' ','_').lower()) # Replaces white space with underscore and lowering the case for each letter.\n",
    "df.columns=names\n",
    "df.columns"
   ]
  },
  {
   "cell_type": "markdown",
   "id": "a8cdb6e7",
   "metadata": {
    "tags": []
   },
   "source": [
    "## Handling Missing Values"
   ]
  },
  {
   "cell_type": "code",
   "execution_count": 10,
   "id": "c6e6e570",
   "metadata": {
    "tags": []
   },
   "outputs": [
    {
     "name": "stdout",
     "output_type": "stream",
     "text": [
      "Total number of missing number of values in dataset are 52,739\n"
     ]
    }
   ],
   "source": [
    "# Checking total number of missing values in the data\n",
    "print(f'Total number of missing number of values in dataset are {df.isnull().sum().sum():,}')"
   ]
  },
  {
   "cell_type": "code",
   "execution_count": 11,
   "id": "3091da55",
   "metadata": {
    "tags": []
   },
   "outputs": [
    {
     "data": {
      "text/plain": [
       "rating             22883\n",
       "rating_count       22883\n",
       "minimum_android     6530\n",
       "size                 196\n",
       "currency             135\n",
       "installs             107\n",
       "app_name               5\n",
       "app_id                 0\n",
       "category               0\n",
       "free                   0\n",
       "price                  0\n",
       "content_rating         0\n",
       "dtype: int64"
      ]
     },
     "execution_count": 11,
     "metadata": {},
     "output_type": "execute_result"
    }
   ],
   "source": [
    "# Checking number of missing values in each column, and sorting them.\n",
    "df.isnull().sum().sort_values(ascending=False)"
   ]
  },
  {
   "cell_type": "code",
   "execution_count": 12,
   "id": "0b4682d1",
   "metadata": {
    "tags": []
   },
   "outputs": [
    {
     "data": {
      "image/png": "[encoded data removed]",
      "text/plain": [
       "<Figure size 2000x600 with 1 Axes>"
      ]
     },
     "metadata": {},
     "output_type": "display_data"
    }
   ],
   "source": [
    "# Visualizing missing values in heatmap\n",
    "plt.figure(figsize=(20,6)) # Setting the figure size\n",
    "sns.heatmap(df.isnull(), cbar=False, yticklabels=False, cmap='viridis') # Code for plot and some minor tweaks like color etc.\n",
    "plt.title('Missing null values') # Printing tilte of plot\n",
    "plt.show() # Showing plot"
   ]
  },
  {
   "cell_type": "code",
   "execution_count": 13,
   "id": "f5002d0d",
   "metadata": {
    "tags": []
   },
   "outputs": [
    {
     "data": {
      "text/plain": [
       "rating             0.989\n",
       "rating_count       0.989\n",
       "minimum_android    0.282\n",
       "size               0.008\n",
       "currency           0.006\n",
       "installs           0.005\n",
       "dtype: float64"
      ]
     },
     "execution_count": 13,
     "metadata": {},
     "output_type": "execute_result"
    }
   ],
   "source": [
    "# Viewing the percentage of missing values, and rounding them to 3 decimal digits.\n",
    "# Only the following columns have missing values\n",
    "\n",
    "missing_percentage=((df.isnull().sum()/df.shape[0])*100).round(3).sort_values(ascending=False)\n",
    "missing_percentage=missing_percentage[missing_percentage != 0]\n",
    "missing_percentage"
   ]
  },
  {
   "cell_type": "code",
   "execution_count": 14,
   "id": "52c68ba9",
   "metadata": {
    "tags": []
   },
   "outputs": [
    {
     "data": {
      "image/png": "[encoded data removed]",
      "text/plain": [
       "<Figure size 640x480 with 1 Axes>"
      ]
     },
     "metadata": {},
     "output_type": "display_data"
    }
   ],
   "source": [
    "# Visualizing missing values with barplot\n",
    "missing_percentage.plot(kind='barh')\n",
    "plt.title('Missing percentage of null values')\n",
    "plt.xlabel('Percentage of missing values')\n",
    "plt.ylabel('Columns with missing values')\n",
    "plt.show()"
   ]
  },
  {
   "cell_type": "markdown",
   "id": "1ffdb2ad",
   "metadata": {},
   "source": [
    "* Observation:\n",
    "    * We can drop the small null values for the columns.\n",
    "        * Size\n",
    "        * Currency\n",
    "        * Installs\n",
    "    * Rating, Rating count are important column so it is good to fill the null values.\n",
    "        * Rating\n",
    "        * Rating count\n",
    "        * Minimum Android"
   ]
  },
  {
   "cell_type": "code",
   "execution_count": 15,
   "id": "d332f83e",
   "metadata": {
    "tags": []
   },
   "outputs": [
    {
     "data": {
      "text/plain": [
       "(2312614, 12)"
      ]
     },
     "execution_count": 15,
     "metadata": {},
     "output_type": "execute_result"
    }
   ],
   "source": [
    "# Droping missing values of columns mentioned in 1st bullet of above observation\n",
    "df.dropna(subset=['size', 'currency', 'installs'], inplace=True)\n",
    "df.shape"
   ]
  },
  {
   "cell_type": "code",
   "execution_count": 16,
   "id": "83f4844b",
   "metadata": {
    "tags": []
   },
   "outputs": [
    {
     "data": {
      "text/plain": [
       "app_name               5\n",
       "app_id                 0\n",
       "category               0\n",
       "rating             22573\n",
       "rating_count       22573\n",
       "installs               0\n",
       "free                   0\n",
       "price                  0\n",
       "currency               0\n",
       "size                   0\n",
       "minimum_android     6530\n",
       "content_rating         0\n",
       "dtype: int64"
      ]
     },
     "execution_count": 16,
     "metadata": {},
     "output_type": "execute_result"
    }
   ],
   "source": [
    "# Verifying weather the above code has been executed properly\n",
    "df.isnull().sum()"
   ]
  },
  {
   "cell_type": "markdown",
   "id": "163657cb-460c-47ef-8c99-3c8c500e7c37",
   "metadata": {
    "tags": []
   },
   "source": [
    "## Handling Duplicates"
   ]
  },
  {
   "cell_type": "code",
   "execution_count": 17,
   "id": "10992537",
   "metadata": {
    "tags": []
   },
   "outputs": [
    {
     "data": {
      "text/plain": [
       "(2312614, 12)"
      ]
     },
     "execution_count": 17,
     "metadata": {},
     "output_type": "execute_result"
    }
   ],
   "source": [
    "# Viewing the rows and columns of dataset.\n",
    "df.shape"
   ]
  },
  {
   "cell_type": "code",
   "execution_count": 18,
   "id": "82d6a932",
   "metadata": {
    "tags": []
   },
   "outputs": [
    {
     "data": {
      "text/plain": [
       "2312614"
      ]
     },
     "execution_count": 18,
     "metadata": {},
     "output_type": "execute_result"
    }
   ],
   "source": [
    "# Checking for duplicates\n",
    "\n",
    "# App names can be same, but app id's can't be same.\n",
    "# So, if number of unique app_id's are equal to number of rows in dataset,\n",
    "# we can safetly say that there are no duplicate apps.\n",
    "\n",
    "df.app_id.nunique()"
   ]
  },
  {
   "cell_type": "code",
   "execution_count": 19,
   "id": "92bff1c4",
   "metadata": {
    "tags": []
   },
   "outputs": [
    {
     "data": {
      "text/plain": [
       "False"
      ]
     },
     "execution_count": 19,
     "metadata": {},
     "output_type": "execute_result"
    }
   ],
   "source": [
    "# Rechecking the app_id column for duplicates.\n",
    "# If there is even one duplicate id, the outcome of the code will be True, otherwise False.\n",
    "\n",
    "df.app_id.duplicated().any()"
   ]
  },
  {
   "cell_type": "markdown",
   "id": "67b17303-8117-4e05-8de3-ab10fa245d5c",
   "metadata": {
    "tags": []
   },
   "source": [
    "## Exploring the Numerical Columns"
   ]
  },
  {
   "cell_type": "markdown",
   "id": "1c1d33df-419f-4975-a581-44bf319ab1ed",
   "metadata": {
    "tags": []
   },
   "source": [
    "### Handling Installs, Size, and Currency column"
   ]
  },
  {
   "cell_type": "markdown",
   "id": "cb5523d8-f86a-448e-86d2-772b04b31a20",
   "metadata": {
    "tags": []
   },
   "source": [
    "#### Let's take care of installs Column"
   ]
  },
  {
   "cell_type": "code",
   "execution_count": 20,
   "id": "1ab10d11-e012-4e51-a980-203d6cbe786f",
   "metadata": {
    "scrolled": true,
    "tags": []
   },
   "outputs": [
    {
     "data": {
      "text/plain": [
       "array(['10+', '5,000+', '50+', '100+', '1,000+', '500+', '50,000+',\n",
       "       '10,000+', '1+', '500,000+', '100,000+', '5+', '10,000,000+',\n",
       "       '1,000,000+', '5,000,000+', '0+', '100,000,000+', '50,000,000+',\n",
       "       '1,000,000,000+', '500,000,000+', '5,000,000,000+',\n",
       "       '10,000,000,000+'], dtype=object)"
      ]
     },
     "execution_count": 20,
     "metadata": {},
     "output_type": "execute_result"
    }
   ],
   "source": [
    "# Checking the unique values\n",
    "\n",
    "df.installs.unique()"
   ]
  },
  {
   "cell_type": "code",
   "execution_count": 21,
   "id": "a0b46ea8-8487-4c86-a2f2-a160309f92c5",
   "metadata": {
    "tags": []
   },
   "outputs": [
    {
     "data": {
      "text/plain": [
       "array([         10,        5000,          50,         100,        1000,\n",
       "               500,       50000,       10000,           1,      500000,\n",
       "            100000,           5,    10000000,     1000000,     5000000,\n",
       "                 0,   100000000,    50000000,  1000000000,   500000000,\n",
       "        5000000000, 10000000000])"
      ]
     },
     "execution_count": 21,
     "metadata": {},
     "output_type": "execute_result"
    }
   ],
   "source": [
    "# Removing '+' sign, removing ',' and converting to integer type\n",
    "\n",
    "df.installs=df.installs.str.strip('+').str.replace(',', '').astype('int')\n",
    "df.installs.unique()"
   ]
  },
  {
   "cell_type": "markdown",
   "id": "ff3641a5-9da4-46de-a2f4-f04ba417491a",
   "metadata": {
    "tags": []
   },
   "source": [
    "#### Size Column"
   ]
  },
  {
   "cell_type": "code",
   "execution_count": 22,
   "id": "56d76f67-ec44-49e3-bb73-388dcabda00c",
   "metadata": {
    "tags": []
   },
   "outputs": [],
   "source": [
    "# Checking for observations\n",
    "\n",
    "# df['size'].value_counts()\n",
    "\n",
    "# The output consumes much space, so commenting the code. To execute the above code, just remove '#' sign and press enter."
   ]
  },
  {
   "cell_type": "markdown",
   "id": "807314c7-d318-44f7-8584-e4bc3438d515",
   "metadata": {},
   "source": [
    "* Observation:\n",
    "    * 'Varies With device'\n",
    "    * 'M'\n",
    "    * 'k'\n",
    "    * 'G'"
   ]
  },
  {
   "cell_type": "code",
   "execution_count": 23,
   "id": "fce2f196-7880-4c52-951d-4d390fc92350",
   "metadata": {},
   "outputs": [
    {
     "name": "stdout",
     "output_type": "stream",
     "text": [
      "Verification: Number of Total rows is 2,312,614, and Observed rows are 2,312,614,hence the difference of 0 indicates that we've observed all the observations\n",
      "______________________________________________________________________\n",
      "There are 74,706 rows with the value Varies with device\n",
      "There are 2,201,643 rows with the value M\n",
      "There are 36,252 rows with the value k\n",
      "There are 13 rows with the value G\n"
     ]
    }
   ],
   "source": [
    "# Verifying whether we have observed 'all the observations'\n",
    "\n",
    "lst=[\"Varies with device\", \"M\", \"k\", \"G\"] # Listing the above observations\n",
    "lst2=[(df['size'].loc[df['size'].str.contains(i)].count()) for i in lst] # Counting EACH observation of 'lst' in dataset\n",
    "\n",
    "# Verifying if observed values equals to total rows\n",
    "print(f'''Verification: Number of Total rows is {df.shape[0]:,}, and Observed rows are {sum(lst2):,},\\\n",
    "hence the difference of {df.shape[0]-sum(lst2)} indicates that we've observed all the observations''')\n",
    "\n",
    "print('_'*70) # Printing dashes to separate information\n",
    "\n",
    "# Displaying the info via loop\n",
    "for i,j in zip(lst2,lst):\n",
    "    print(f'There are {i:,} rows with the value {j}')"
   ]
  },
  {
   "cell_type": "code",
   "execution_count": 24,
   "id": "098a1871-3c78-4621-a60d-53cc8c350864",
   "metadata": {
    "tags": []
   },
   "outputs": [],
   "source": [
    "# Where size of app 'Varies with device', we're replacing the string with '0', and then converting it into float.\n",
    "\n",
    "df['size']=df['size'].apply(lambda x: float(str(x).replace('Varies with device', '0')) if 'Varies with device' in str(x) else x)"
   ]
  },
  {
   "cell_type": "code",
   "execution_count": 25,
   "id": "d6095f8b-180a-4146-9ec2-eccd832fe811",
   "metadata": {
    "tags": []
   },
   "outputs": [],
   "source": [
    "# Where size of app is in GB's, wer're replacing GB with '', and then converting it into float, and ultimately into MB's.\n",
    "\n",
    "df['size']=df['size'].apply(lambda x: float(str(x).replace('G', ''))*1000 if 'G' in str(x) else x)"
   ]
  },
  {
   "cell_type": "code",
   "execution_count": 26,
   "id": "1e429f3e-3de1-4962-86cf-41970df9d9b0",
   "metadata": {},
   "outputs": [],
   "source": [
    "# While converting apps sizes into float, anomolies were observed. We got the value 1,006MB, and 1,018KB. We assume that\n",
    "# these were actullay of 1006MB, and 1018KB, hence replacing that comma ',' with nothing ''.\n",
    "\n",
    "df['size']=df['size'].str.replace(',','.')"
   ]
  },
  {
   "cell_type": "code",
   "execution_count": 27,
   "id": "2ca1ef3a-9afa-41a2-8471-83a01335d82f",
   "metadata": {
    "tags": []
   },
   "outputs": [],
   "source": [
    "# Where size of app is in MB's, we're replacing MB with '', and then converting it into float.\n",
    "\n",
    "df['size']=df['size'].apply(lambda x: float(str(x).replace('M', '')) if 'M' in str(x) else x)"
   ]
  },
  {
   "cell_type": "code",
   "execution_count": 28,
   "id": "329382b0-0984-4f77-8bb6-c901d11a476b",
   "metadata": {},
   "outputs": [],
   "source": [
    "# Where size of app is in KB's, wer're replacing KB with '', and then converting it into float, and ultimately into MB's.\n",
    "\n",
    "df['size']=df['size'].apply(lambda x: float(str(x).replace('k', ''))/1000 if 'k' in str(x) else x)"
   ]
  },
  {
   "cell_type": "code",
   "execution_count": 29,
   "id": "85456db9-3da7-44d7-8eae-e8917a9cdc5f",
   "metadata": {
    "tags": []
   },
   "outputs": [],
   "source": [
    "# df.info()"
   ]
  },
  {
   "cell_type": "code",
   "execution_count": 30,
   "id": "602d856c-019a-4916-a345-52ee477c67a0",
   "metadata": {},
   "outputs": [
    {
     "data": {
      "text/plain": [
       "Index(['app_name', 'app_id', 'category', 'rating', 'rating_count', 'installs',\n",
       "       'free', 'price', 'currency', 'size_in_mb', 'minimum_android',\n",
       "       'content_rating'],\n",
       "      dtype='object')"
      ]
     },
     "execution_count": 30,
     "metadata": {},
     "output_type": "execute_result"
    }
   ],
   "source": [
    "# Renaming 'Size' column\n",
    "df.rename({'size': 'size_in_mb'}, inplace=True, axis=1)\n",
    "df.columns"
   ]
  },
  {
   "cell_type": "markdown",
   "id": "57ea468c-9e2d-4630-ba1d-2405bf3c9119",
   "metadata": {
    "tags": []
   },
   "source": [
    "#### Currency Column"
   ]
  },
  {
   "cell_type": "code",
   "execution_count": 31,
   "id": "4c2bbf61-bd9c-4954-9db3-6ed80241b574",
   "metadata": {
    "tags": []
   },
   "outputs": [
    {
     "data": {
      "text/plain": [
       "array(['USD', 'XXX', 'CAD', 'EUR', 'INR', 'VND', 'GBP', 'BRL', 'KRW',\n",
       "       'TRY', 'RUB', 'SGD', 'AUD', 'PKR', 'ZAR'], dtype=object)"
      ]
     },
     "execution_count": 31,
     "metadata": {},
     "output_type": "execute_result"
    }
   ],
   "source": [
    "df.currency.unique()"
   ]
  },
  {
   "cell_type": "code",
   "execution_count": 32,
   "id": "b47f470f-977d-43ff-bfd6-a2550524503f",
   "metadata": {},
   "outputs": [
    {
     "data": {
      "text/plain": [
       "array(['USD', 'N/A', 'CAD', 'EUR', 'INR', 'VND', 'GBP', 'BRL', 'KRW',\n",
       "       'TRY', 'RUB', 'SGD', 'AUD', 'PKR', 'ZAR'], dtype=object)"
      ]
     },
     "execution_count": 32,
     "metadata": {},
     "output_type": "execute_result"
    }
   ],
   "source": [
    "df.currency[df.currency=='XXX'] = 'N/A'\n",
    "df.currency.unique()"
   ]
  },
  {
   "cell_type": "markdown",
   "id": "b9fc5fe4-ae49-4fdb-83ed-3598bfd7c7d1",
   "metadata": {
    "tags": []
   },
   "source": [
    "### Handling Other Numerical Columns"
   ]
  },
  {
   "cell_type": "code",
   "execution_count": 33,
   "id": "def60dab-b197-46ac-abb7-1b6b80b62339",
   "metadata": {},
   "outputs": [
    {
     "data": {
      "text/html": [
       "<div>\n",
       "<style scoped>\n",
       "    .dataframe tbody tr th:only-of-type {\n",
       "        vertical-align: middle;\n",
       "    }\n",
       "\n",
       "    .dataframe tbody tr th {\n",
       "        vertical-align: top;\n",
       "    }\n",
       "\n",
       "    .dataframe thead th {\n",
       "        text-align: right;\n",
       "    }\n",
       "</style>\n",
       "<table border=\"1\" class=\"dataframe\">\n",
       "  <thead>\n",
       "    <tr style=\"text-align: right;\">\n",
       "      <th></th>\n",
       "      <th>rating</th>\n",
       "      <th>rating_count</th>\n",
       "      <th>installs</th>\n",
       "      <th>price</th>\n",
       "      <th>size_in_mb</th>\n",
       "    </tr>\n",
       "  </thead>\n",
       "  <tbody>\n",
       "    <tr>\n",
       "      <th>count</th>\n",
       "      <td>2.290041e+06</td>\n",
       "      <td>2.290041e+06</td>\n",
       "      <td>2.312614e+06</td>\n",
       "      <td>2.312614e+06</td>\n",
       "      <td>2.237895e+06</td>\n",
       "    </tr>\n",
       "    <tr>\n",
       "      <th>mean</th>\n",
       "      <td>2.203147e+00</td>\n",
       "      <td>2.864863e+03</td>\n",
       "      <td>1.834580e+05</td>\n",
       "      <td>1.035129e-01</td>\n",
       "      <td>1.919923e+01</td>\n",
       "    </tr>\n",
       "    <tr>\n",
       "      <th>std</th>\n",
       "      <td>2.106223e+00</td>\n",
       "      <td>2.121635e+05</td>\n",
       "      <td>1.513217e+07</td>\n",
       "      <td>2.633314e+00</td>\n",
       "      <td>2.386556e+01</td>\n",
       "    </tr>\n",
       "    <tr>\n",
       "      <th>min</th>\n",
       "      <td>0.000000e+00</td>\n",
       "      <td>0.000000e+00</td>\n",
       "      <td>0.000000e+00</td>\n",
       "      <td>0.000000e+00</td>\n",
       "      <td>1.000000e-03</td>\n",
       "    </tr>\n",
       "    <tr>\n",
       "      <th>10%</th>\n",
       "      <td>0.000000e+00</td>\n",
       "      <td>0.000000e+00</td>\n",
       "      <td>1.000000e+01</td>\n",
       "      <td>0.000000e+00</td>\n",
       "      <td>2.800000e+00</td>\n",
       "    </tr>\n",
       "    <tr>\n",
       "      <th>20%</th>\n",
       "      <td>0.000000e+00</td>\n",
       "      <td>0.000000e+00</td>\n",
       "      <td>5.000000e+01</td>\n",
       "      <td>0.000000e+00</td>\n",
       "      <td>4.200000e+00</td>\n",
       "    </tr>\n",
       "    <tr>\n",
       "      <th>30%</th>\n",
       "      <td>0.000000e+00</td>\n",
       "      <td>0.000000e+00</td>\n",
       "      <td>1.000000e+02</td>\n",
       "      <td>0.000000e+00</td>\n",
       "      <td>5.700000e+00</td>\n",
       "    </tr>\n",
       "    <tr>\n",
       "      <th>40%</th>\n",
       "      <td>0.000000e+00</td>\n",
       "      <td>0.000000e+00</td>\n",
       "      <td>1.000000e+02</td>\n",
       "      <td>0.000000e+00</td>\n",
       "      <td>7.700000e+00</td>\n",
       "    </tr>\n",
       "    <tr>\n",
       "      <th>45%</th>\n",
       "      <td>0.000000e+00</td>\n",
       "      <td>0.000000e+00</td>\n",
       "      <td>1.000000e+02</td>\n",
       "      <td>0.000000e+00</td>\n",
       "      <td>8.800000e+00</td>\n",
       "    </tr>\n",
       "    <tr>\n",
       "      <th>50%</th>\n",
       "      <td>2.900000e+00</td>\n",
       "      <td>6.000000e+00</td>\n",
       "      <td>5.000000e+02</td>\n",
       "      <td>0.000000e+00</td>\n",
       "      <td>1.000000e+01</td>\n",
       "    </tr>\n",
       "    <tr>\n",
       "      <th>60%</th>\n",
       "      <td>3.800000e+00</td>\n",
       "      <td>1.200000e+01</td>\n",
       "      <td>1.000000e+03</td>\n",
       "      <td>0.000000e+00</td>\n",
       "      <td>1.400000e+01</td>\n",
       "    </tr>\n",
       "    <tr>\n",
       "      <th>70%</th>\n",
       "      <td>4.100000e+00</td>\n",
       "      <td>2.600000e+01</td>\n",
       "      <td>1.000000e+03</td>\n",
       "      <td>0.000000e+00</td>\n",
       "      <td>2.100000e+01</td>\n",
       "    </tr>\n",
       "    <tr>\n",
       "      <th>80%</th>\n",
       "      <td>4.400000e+00</td>\n",
       "      <td>7.300000e+01</td>\n",
       "      <td>1.000000e+04</td>\n",
       "      <td>0.000000e+00</td>\n",
       "      <td>3.000000e+01</td>\n",
       "    </tr>\n",
       "    <tr>\n",
       "      <th>90%</th>\n",
       "      <td>4.700000e+00</td>\n",
       "      <td>3.370000e+02</td>\n",
       "      <td>5.000000e+04</td>\n",
       "      <td>0.000000e+00</td>\n",
       "      <td>4.700000e+01</td>\n",
       "    </tr>\n",
       "    <tr>\n",
       "      <th>98%</th>\n",
       "      <td>5.000000e+00</td>\n",
       "      <td>7.242000e+03</td>\n",
       "      <td>1.000000e+06</td>\n",
       "      <td>0.000000e+00</td>\n",
       "      <td>9.100000e+01</td>\n",
       "    </tr>\n",
       "    <tr>\n",
       "      <th>max</th>\n",
       "      <td>5.000000e+00</td>\n",
       "      <td>1.385576e+08</td>\n",
       "      <td>1.000000e+10</td>\n",
       "      <td>4.000000e+02</td>\n",
       "      <td>9.960000e+02</td>\n",
       "    </tr>\n",
       "  </tbody>\n",
       "</table>\n",
       "</div>"
      ],
      "text/plain": [
       "             rating  rating_count      installs         price    size_in_mb\n",
       "count  2.290041e+06  2.290041e+06  2.312614e+06  2.312614e+06  2.237895e+06\n",
       "mean   2.203147e+00  2.864863e+03  1.834580e+05  1.035129e-01  1.919923e+01\n",
       "std    2.106223e+00  2.121635e+05  1.513217e+07  2.633314e+00  2.386556e+01\n",
       "min    0.000000e+00  0.000000e+00  0.000000e+00  0.000000e+00  1.000000e-03\n",
       "10%    0.000000e+00  0.000000e+00  1.000000e+01  0.000000e+00  2.800000e+00\n",
       "20%    0.000000e+00  0.000000e+00  5.000000e+01  0.000000e+00  4.200000e+00\n",
       "30%    0.000000e+00  0.000000e+00  1.000000e+02  0.000000e+00  5.700000e+00\n",
       "40%    0.000000e+00  0.000000e+00  1.000000e+02  0.000000e+00  7.700000e+00\n",
       "45%    0.000000e+00  0.000000e+00  1.000000e+02  0.000000e+00  8.800000e+00\n",
       "50%    2.900000e+00  6.000000e+00  5.000000e+02  0.000000e+00  1.000000e+01\n",
       "60%    3.800000e+00  1.200000e+01  1.000000e+03  0.000000e+00  1.400000e+01\n",
       "70%    4.100000e+00  2.600000e+01  1.000000e+03  0.000000e+00  2.100000e+01\n",
       "80%    4.400000e+00  7.300000e+01  1.000000e+04  0.000000e+00  3.000000e+01\n",
       "90%    4.700000e+00  3.370000e+02  5.000000e+04  0.000000e+00  4.700000e+01\n",
       "98%    5.000000e+00  7.242000e+03  1.000000e+06  0.000000e+00  9.100000e+01\n",
       "max    5.000000e+00  1.385576e+08  1.000000e+10  4.000000e+02  9.960000e+02"
      ]
     },
     "execution_count": 33,
     "metadata": {},
     "output_type": "execute_result"
    }
   ],
   "source": [
    "# Some descriptive statistics about the data.\n",
    "\n",
    "df.describe(percentiles=[.1, .2, .3, .4, .45, .5, .6, .7, .8, .9, .98])"
   ]
  },
  {
   "cell_type": "markdown",
   "id": "c2f5f4b4-8c8b-4c24-b453-063992e9190a",
   "metadata": {},
   "source": [
    "* Observations:\n",
    "    * Rating:\n",
    "        * The min 'rating' is 0.0 and max rating is 5.0.\n",
    "        * Out of 2.3M apps, more than million apps or 45% apps have zero ratings.\n",
    "        * Only 30% of apps have rating above than 4.0.\n",
    "    * Rating count:\n",
    "        * The min is 0 and the max rating count is 138,557,600.\n",
    "        * Only 2% of apps have rating count more than 724.\n",
    "    * Installs:\n",
    "    * Price:\n",
    "        * 90% or 2.2+ million apps are free of cost.\n",
    "        * The min price is 0, and the max is 400$.\n",
    "    * Size in MB:"
   ]
  },
  {
   "cell_type": "code",
   "execution_count": 34,
   "id": "81bf1fc1-f000-48a0-b97d-2623605a22c8",
   "metadata": {
    "tags": []
   },
   "outputs": [
    {
     "data": {
      "text/plain": [
       "array([0. , 4.4, 5. , 4.5, 2. , 4.7, 4.9, 3.9, 3.7, 4.2, 3.4, 3.8, 4.6,\n",
       "       4.1, 2.5, 2.3, 2.1, 2.7, 4.3, 3.1, 4.8, 3.3, 4. , 2.4, 3.2, 3.6,\n",
       "       2.6, nan, 1.5, 3.5, 2.9, 1.3, 2.8, 3. , 2.2, 1.8, 1.4, 1.2, 1.9,\n",
       "       1.7, 1.6, 1. , 1.1])"
      ]
     },
     "execution_count": 34,
     "metadata": {},
     "output_type": "execute_result"
    }
   ],
   "source": [
    "# Viewing unique values of column 'rating'\n",
    "df.rating.unique()"
   ]
  },
  {
   "cell_type": "code",
   "execution_count": 35,
   "id": "9c7a1d48-e995-4dc7-a80f-4ca9bbcd8be0",
   "metadata": {
    "tags": []
   },
   "outputs": [
    {
     "data": {
      "image/png": "[encoded data removed]",
      "text/plain": [
       "<Figure size 640x480 with 1 Axes>"
      ]
     },
     "metadata": {},
     "output_type": "display_data"
    }
   ],
   "source": [
    "# Plotting histogram for rating column\n",
    "\n",
    "g=sns.histplot(df.rating, bins=5)\n",
    "g.set_xlabel('Rating')\n",
    "g.set_ylabel('Frequency')\n",
    "plt.title('Distribution of Rating')\n",
    "plt.show()"
   ]
  },
  {
   "cell_type": "markdown",
   "id": "7c6fa124-051b-4816-aa9d-702cd6e8b495",
   "metadata": {},
   "source": [
    "* Observation: From the above plot, we can see that most people doesn't give ratings, also, peole tend to give rating 4+ the most."
   ]
  },
  {
   "cell_type": "code",
   "execution_count": 36,
   "id": "c927e79c-44e1-4bb3-b164-ae1e8889fec4",
   "metadata": {
    "tags": []
   },
   "outputs": [],
   "source": [
    "# df.rating_count.value_counts()\n",
    "\n",
    "# The output consumes much space, so commenting the code. To execute the above code, just remove '#' sign and press enter."
   ]
  },
  {
   "cell_type": "markdown",
   "id": "a6b9880e-c131-47e9-87ea-a454334b00d9",
   "metadata": {},
   "source": [
    "* Observation: The data of rating_count column can be utilized more effectively if we categorize the rating_count into few useful categories.\n",
    "* Lets make a new column 'rating_type', and categorize rating_count into 4 categories, and criteria is:\n",
    "    * if rating_count = 0: 'No Rating Provided'\n",
    "    * If rating_count > 0 but < 10,000: 'Less than 10k'\n",
    "    * If rating_count > 10,000 but < 500,000: 'Between 10k and 500k'\n",
    "    * If rating_count > 500,000: 'More than 500k'"
   ]
  },
  {
   "cell_type": "code",
   "execution_count": 37,
   "id": "dee40843-cdf1-44b5-910a-54f186331716",
   "metadata": {
    "tags": []
   },
   "outputs": [
    {
     "data": {
      "text/plain": [
       "rating_type\n",
       "Less than 10k           1192842\n",
       "No Rating Provided      1082328\n",
       "Between 10k and 500k      35779\n",
       "More than 500k             1665\n",
       "Name: count, dtype: int64"
      ]
     },
     "execution_count": 37,
     "metadata": {},
     "output_type": "execute_result"
    }
   ],
   "source": [
    "# Making a new column as per above mentioned criteria\n",
    "df['rating_type'] = 'No Rating Provided'\n",
    "df.rating_type.loc[(df.rating_count > 0) & (df.rating_count < 10000)] = 'Less than 10k'\n",
    "df.rating_type.loc[(df.rating_count > 10000) & (df.rating_count < 500000)] = 'Between 10k and 500k'\n",
    "df.rating_type.loc[df.rating_count > 500000] = 'More than 500k'\n",
    "\n",
    "df.rating_type.value_counts()"
   ]
  },
  {
   "cell_type": "markdown",
   "id": "e424cde9-6d6f-498d-b918-49bc33af64b5",
   "metadata": {
    "tags": []
   },
   "source": [
    "## Exploring Categorical Columns"
   ]
  },
  {
   "cell_type": "markdown",
   "id": "67e6c1c2-3f2a-48f2-bd9a-4d8af0eb61fa",
   "metadata": {
    "tags": []
   },
   "source": [
    "### Free Column"
   ]
  },
  {
   "cell_type": "code",
   "execution_count": 38,
   "id": "3b9280bd-0f9a-4f6e-ad49-d2d471619750",
   "metadata": {
    "tags": []
   },
   "outputs": [
    {
     "data": {
      "text/plain": [
       "array(['Free', 'Paid'], dtype=object)"
      ]
     },
     "execution_count": 38,
     "metadata": {},
     "output_type": "execute_result"
    }
   ],
   "source": [
    "# Converting bool datatype of Free column into object datatype i.e., Where Free is True, replacing that with free, otherwise will paid.\n",
    "\n",
    "df.free=np.where(df.free==True, 'Free', 'Paid')\n",
    "df.free.unique()"
   ]
  },
  {
   "cell_type": "markdown",
   "id": "17e6156b-c8fb-4e54-b5cb-5403bcd80808",
   "metadata": {
    "tags": []
   },
   "source": [
    "### Content Rating Column"
   ]
  },
  {
   "cell_type": "code",
   "execution_count": 39,
   "id": "15c53065-c07c-4ec8-8f0e-5c2b82fbb28f",
   "metadata": {
    "tags": []
   },
   "outputs": [
    {
     "data": {
      "text/plain": [
       "array(['Everyone', 'Teen', 'Mature 17+', 'Everyone 10+',\n",
       "       'Adults only 18+', 'Unrated'], dtype=object)"
      ]
     },
     "execution_count": 39,
     "metadata": {},
     "output_type": "execute_result"
    }
   ],
   "source": [
    "# Viewing unique values from content rating column\n",
    "df.content_rating.unique()"
   ]
  },
  {
   "cell_type": "code",
   "execution_count": 40,
   "id": "71eae3a8-68f9-479d-8abc-a39c4ca4c073",
   "metadata": {
    "tags": []
   },
   "outputs": [
    {
     "data": {
      "text/plain": [
       "content_rating\n",
       "Everyone           2021850\n",
       "Teen                196314\n",
       "Mature 17+           60279\n",
       "Everyone 10+         33881\n",
       "Unrated                154\n",
       "Adults only 18+        136\n",
       "Name: count, dtype: int64"
      ]
     },
     "execution_count": 40,
     "metadata": {},
     "output_type": "execute_result"
    }
   ],
   "source": [
    "# Printing value_counts for content rating column i.e., checking which value occurs how many times?\n",
    "df.content_rating.value_counts()"
   ]
  },
  {
   "cell_type": "markdown",
   "id": "4bd696ad-7e8d-4f3c-9ab1-36dfb23f22eb",
   "metadata": {},
   "source": [
    "* Observation:\n",
    "    * In the content rating column, we've 6 categories, namely Everyone, Teen, Mature 17+, Everyone 10+, Unrated, and Adults only 18+.\n",
    "* Lets make 3 simpler categories from those 6 categories for better understanding:\n",
    "    * Mature 17+ to Adults\n",
    "    * Adults only 18+ to Adults\n",
    "    * Everyone 10+ to Teen\n",
    "    * Unrated to Everyone"
   ]
  },
  {
   "cell_type": "code",
   "execution_count": 41,
   "id": "45db0270-df06-4d82-81b6-a6890a3a257f",
   "metadata": {
    "tags": []
   },
   "outputs": [
    {
     "data": {
      "text/plain": [
       "array(['Everyone', 'Teen', 'Adults'], dtype=object)"
      ]
     },
     "execution_count": 41,
     "metadata": {},
     "output_type": "execute_result"
    }
   ],
   "source": [
    "# Making 3 categories out of 6 categories as per above criteria.\n",
    "df.content_rating = df.content_rating.replace('Mature 17+', 'Adults')\n",
    "df.content_rating = df.content_rating.replace('Adults only 18+', 'Adults')\n",
    "df.content_rating = df.content_rating.replace('Everyone 10+', 'Teen')\n",
    "df.content_rating = df.content_rating.replace('Unrated', 'Everyone')\n",
    "\n",
    "# Checking the excution of our code\n",
    "df.content_rating.unique()"
   ]
  },
  {
   "cell_type": "markdown",
   "id": "0c9a1cdb-d59c-4b15-8856-6ff933b06268",
   "metadata": {},
   "source": [
    "## Questions & Answers"
   ]
  },
  {
   "cell_type": "markdown",
   "id": "6b0cb307-dd41-43e4-8669-fc8f3d1a67b9",
   "metadata": {},
   "source": [
    "* What are the top 10 Categories based upon number of available apps?\n",
    "* Which are the top 10 Categories that are getting installed the most?\n",
    "* Are Top 10 catergories by apps also top 10 catergories by installs? (In other words, For Top 10 categories, does having max apps translate into max installs?)\n",
    "* Which category has the highest Paid and Free Apps?\n",
    "* How does the size of the Application impacts the installation?\n",
    "* What are the Top 5 Paid Apps based with highest ratings and installs?\n",
    "* What are teh Top 5 Free Apps based with highest ratings and installs?"
   ]
  },
  {
   "cell_type": "markdown",
   "id": "7dd1cb26-19be-4cab-92fd-584ad6aa8005",
   "metadata": {
    "tags": []
   },
   "source": [
    "### What are the top 10 Categories based upon number of available apps?"
   ]
  },
  {
   "cell_type": "code",
   "execution_count": 42,
   "id": "921aadf1-52aa-4536-8213-3f3e7ce94866",
   "metadata": {
    "tags": []
   },
   "outputs": [
    {
     "data": {
      "text/plain": [
       "array(['Adventure', 'Tools', 'Productivity', 'Communication', 'Social',\n",
       "       'Libraries & Demo', 'Lifestyle', 'Personalization', 'Racing',\n",
       "       'Maps & Navigation', 'Travel & Local', 'Food & Drink',\n",
       "       'Books & Reference', 'Medical', 'Puzzle', 'Entertainment',\n",
       "       'Arcade', 'Auto & Vehicles', 'Photography', 'Health & Fitness',\n",
       "       'Education', 'Shopping', 'Board', 'Music & Audio', 'Sports',\n",
       "       'Beauty', 'Business', 'Educational', 'Finance', 'News & Magazines',\n",
       "       'Casual', 'Art & Design', 'House & Home', 'Card', 'Events',\n",
       "       'Trivia', 'Weather', 'Strategy', 'Word', 'Video Players & Editors',\n",
       "       'Action', 'Simulation', 'Music', 'Dating', 'Role Playing',\n",
       "       'Casino', 'Comics', 'Parenting'], dtype=object)"
      ]
     },
     "execution_count": 42,
     "metadata": {},
     "output_type": "execute_result"
    }
   ],
   "source": [
    "# Viewing the unique categories\n",
    "df.category.unique()"
   ]
  },
  {
   "cell_type": "code",
   "execution_count": 43,
   "id": "96a53974-2b88-4117-8ed5-0a14870bfe29",
   "metadata": {
    "tags": []
   },
   "outputs": [
    {
     "data": {
      "text/html": [
       "<div>\n",
       "<style scoped>\n",
       "    .dataframe tbody tr th:only-of-type {\n",
       "        vertical-align: middle;\n",
       "    }\n",
       "\n",
       "    .dataframe tbody tr th {\n",
       "        vertical-align: top;\n",
       "    }\n",
       "\n",
       "    .dataframe thead th {\n",
       "        text-align: right;\n",
       "    }\n",
       "</style>\n",
       "<table border=\"1\" class=\"dataframe\">\n",
       "  <thead>\n",
       "    <tr style=\"text-align: right;\">\n",
       "      <th></th>\n",
       "      <th>category</th>\n",
       "      <th>count_of_apps</th>\n",
       "    </tr>\n",
       "  </thead>\n",
       "  <tbody>\n",
       "    <tr>\n",
       "      <th>0</th>\n",
       "      <td>Education</td>\n",
       "      <td>241074</td>\n",
       "    </tr>\n",
       "    <tr>\n",
       "      <th>1</th>\n",
       "      <td>Music &amp; Audio</td>\n",
       "      <td>154898</td>\n",
       "    </tr>\n",
       "    <tr>\n",
       "      <th>2</th>\n",
       "      <td>Tools</td>\n",
       "      <td>143972</td>\n",
       "    </tr>\n",
       "    <tr>\n",
       "      <th>3</th>\n",
       "      <td>Business</td>\n",
       "      <td>143758</td>\n",
       "    </tr>\n",
       "    <tr>\n",
       "      <th>4</th>\n",
       "      <td>Entertainment</td>\n",
       "      <td>138266</td>\n",
       "    </tr>\n",
       "    <tr>\n",
       "      <th>5</th>\n",
       "      <td>Lifestyle</td>\n",
       "      <td>118322</td>\n",
       "    </tr>\n",
       "    <tr>\n",
       "      <th>6</th>\n",
       "      <td>Books &amp; Reference</td>\n",
       "      <td>116726</td>\n",
       "    </tr>\n",
       "    <tr>\n",
       "      <th>7</th>\n",
       "      <td>Personalization</td>\n",
       "      <td>89209</td>\n",
       "    </tr>\n",
       "    <tr>\n",
       "      <th>8</th>\n",
       "      <td>Health &amp; Fitness</td>\n",
       "      <td>83499</td>\n",
       "    </tr>\n",
       "    <tr>\n",
       "      <th>9</th>\n",
       "      <td>Productivity</td>\n",
       "      <td>79685</td>\n",
       "    </tr>\n",
       "  </tbody>\n",
       "</table>\n",
       "</div>"
      ],
      "text/plain": [
       "            category  count_of_apps\n",
       "0          Education         241074\n",
       "1      Music & Audio         154898\n",
       "2              Tools         143972\n",
       "3           Business         143758\n",
       "4      Entertainment         138266\n",
       "5          Lifestyle         118322\n",
       "6  Books & Reference         116726\n",
       "7    Personalization          89209\n",
       "8   Health & Fitness          83499\n",
       "9       Productivity          79685"
      ]
     },
     "execution_count": 43,
     "metadata": {},
     "output_type": "execute_result"
    }
   ],
   "source": [
    "# Creating and viewing the variable containing top 10 categories having the most available apps\n",
    "top_10_categories_by_apps= df.category.value_counts().nlargest(10).reset_index().rename({'count':'count_of_apps'}, axis=1)\n",
    "top_10_categories_by_apps"
   ]
  },
  {
   "cell_type": "code",
   "execution_count": 44,
   "id": "7f0114c2-4e88-4bbd-b8dc-2c34348ff62b",
   "metadata": {
    "tags": []
   },
   "outputs": [
    {
     "data": {
      "image/png": "[encoded data removed]",
      "text/plain": [
       "<Figure size 1000x400 with 1 Axes>"
      ]
     },
     "metadata": {},
     "output_type": "display_data"
    }
   ],
   "source": [
    "# Plotting the above findings\n",
    "\n",
    "# Some customization\n",
    "sns.set_style(\"whitegrid\") # The background of figure\n",
    "sns.set_context(\"notebook\") # Can be choose from 'paper', 'notebook', 'talk', 'poster'\n",
    "\n",
    "# Code for plot\n",
    "plt.figure(figsize=(10, 4))  # Set the figure size\n",
    "sns.barplot(x='count_of_apps', y='category', data=top_10_categories_by_apps, palette='viridis')\n",
    "plt.title('Top Categories by Apps')\n",
    "plt.xlabel('App Count')\n",
    "plt.ylabel('Categories')\n",
    "plt.show()"
   ]
  },
  {
   "cell_type": "markdown",
   "id": "7edb9854-0701-4f30-a92c-0afc25ad9ad9",
   "metadata": {
    "tags": []
   },
   "source": [
    "### Which are the top 10 Categories that are getting installed the most?"
   ]
  },
  {
   "cell_type": "code",
   "execution_count": 45,
   "id": "c309c053-2f76-459c-9eeb-0124aab91d53",
   "metadata": {
    "tags": []
   },
   "outputs": [
    {
     "data": {
      "text/plain": [
       "array(['Adventure', 'Tools', 'Productivity', 'Communication', 'Social',\n",
       "       'Libraries & Demo', 'Lifestyle', 'Personalization', 'Racing',\n",
       "       'Maps & Navigation', 'Travel & Local', 'Food & Drink',\n",
       "       'Books & Reference', 'Medical', 'Puzzle', 'Entertainment',\n",
       "       'Arcade', 'Auto & Vehicles', 'Photography', 'Health & Fitness',\n",
       "       'Education', 'Shopping', 'Board', 'Music & Audio', 'Sports',\n",
       "       'Beauty', 'Business', 'Educational', 'Finance', 'News & Magazines',\n",
       "       'Casual', 'Art & Design', 'House & Home', 'Card', 'Events',\n",
       "       'Trivia', 'Weather', 'Strategy', 'Word', 'Video Players & Editors',\n",
       "       'Action', 'Simulation', 'Music', 'Dating', 'Role Playing',\n",
       "       'Casino', 'Comics', 'Parenting'], dtype=object)"
      ]
     },
     "execution_count": 45,
     "metadata": {},
     "output_type": "execute_result"
    }
   ],
   "source": [
    "# Viewing the unique values\n",
    "df.category.unique()"
   ]
  },
  {
   "cell_type": "code",
   "execution_count": 46,
   "id": "84e9c2a8-5d80-4842-a9f2-30f6a4c0f0c1",
   "metadata": {
    "tags": []
   },
   "outputs": [
    {
     "data": {
      "text/html": [
       "<div>\n",
       "<style scoped>\n",
       "    .dataframe tbody tr th:only-of-type {\n",
       "        vertical-align: middle;\n",
       "    }\n",
       "\n",
       "    .dataframe tbody tr th {\n",
       "        vertical-align: top;\n",
       "    }\n",
       "\n",
       "    .dataframe thead th {\n",
       "        text-align: right;\n",
       "    }\n",
       "</style>\n",
       "<table border=\"1\" class=\"dataframe\">\n",
       "  <thead>\n",
       "    <tr style=\"text-align: right;\">\n",
       "      <th></th>\n",
       "      <th>category</th>\n",
       "      <th>count_of_installs</th>\n",
       "    </tr>\n",
       "  </thead>\n",
       "  <tbody>\n",
       "    <tr>\n",
       "      <th>0</th>\n",
       "      <td>Tools</td>\n",
       "      <td>71440321217</td>\n",
       "    </tr>\n",
       "    <tr>\n",
       "      <th>1</th>\n",
       "      <td>Communication</td>\n",
       "      <td>43216592514</td>\n",
       "    </tr>\n",
       "    <tr>\n",
       "      <th>2</th>\n",
       "      <td>Productivity</td>\n",
       "      <td>28314042263</td>\n",
       "    </tr>\n",
       "    <tr>\n",
       "      <th>3</th>\n",
       "      <td>Photography</td>\n",
       "      <td>18998958963</td>\n",
       "    </tr>\n",
       "    <tr>\n",
       "      <th>4</th>\n",
       "      <td>Video Players &amp; Editors</td>\n",
       "      <td>18591154109</td>\n",
       "    </tr>\n",
       "    <tr>\n",
       "      <th>5</th>\n",
       "      <td>Action</td>\n",
       "      <td>17399855328</td>\n",
       "    </tr>\n",
       "    <tr>\n",
       "      <th>6</th>\n",
       "      <td>Social</td>\n",
       "      <td>17165994665</td>\n",
       "    </tr>\n",
       "    <tr>\n",
       "      <th>7</th>\n",
       "      <td>Entertainment</td>\n",
       "      <td>17108504983</td>\n",
       "    </tr>\n",
       "    <tr>\n",
       "      <th>8</th>\n",
       "      <td>Casual</td>\n",
       "      <td>16836853725</td>\n",
       "    </tr>\n",
       "    <tr>\n",
       "      <th>9</th>\n",
       "      <td>Arcade</td>\n",
       "      <td>14501231905</td>\n",
       "    </tr>\n",
       "  </tbody>\n",
       "</table>\n",
       "</div>"
      ],
      "text/plain": [
       "                  category  count_of_installs\n",
       "0                    Tools        71440321217\n",
       "1            Communication        43216592514\n",
       "2             Productivity        28314042263\n",
       "3              Photography        18998958963\n",
       "4  Video Players & Editors        18591154109\n",
       "5                   Action        17399855328\n",
       "6                   Social        17165994665\n",
       "7            Entertainment        17108504983\n",
       "8                   Casual        16836853725\n",
       "9                   Arcade        14501231905"
      ]
     },
     "execution_count": 46,
     "metadata": {},
     "output_type": "execute_result"
    }
   ],
   "source": [
    "# Creating and viewing the variable containing top 10 categories that are installed the most.\n",
    "\n",
    "top_10_categories_by_installs= df.groupby('category')['installs'].sum().nlargest(10).reset_index().rename({'installs':'count_of_installs'}, axis=1)\n",
    "top_10_categories_by_installs"
   ]
  },
  {
   "cell_type": "code",
   "execution_count": 47,
   "id": "72b99b98-cd3c-4678-9933-74864df7383b",
   "metadata": {
    "tags": []
   },
   "outputs": [
    {
     "data": {
      "image/png": "[encoded data removed]",
      "text/plain": [
       "<Figure size 1000x400 with 1 Axes>"
      ]
     },
     "metadata": {},
     "output_type": "display_data"
    }
   ],
   "source": [
    "# Plotting the above findings\n",
    "\n",
    "# Some customizations for the plot\n",
    "sns.set_style(\"darkgrid\") # The background of figure\n",
    "sns.set_context(\"talk\") # Can be choose from 'paper', 'notebook', 'talk', 'poster'\n",
    "\n",
    "# Code for plot\n",
    "plt.figure(figsize=(10, 4))  # Set the figure size\n",
    "sns.barplot(x='count_of_installs', y='category', data=top_10_categories_by_installs, palette='pastel')\n",
    "plt.title('Top Categories by Installs')\n",
    "plt.xlabel('App Installs')\n",
    "plt.ylabel('Categories')\n",
    "plt.show()"
   ]
  },
  {
   "cell_type": "markdown",
   "id": "88789137-e0f8-4fd2-bc28-81bb4ddd82d4",
   "metadata": {
    "tags": []
   },
   "source": [
    "### Are Top 10 catergories by apps also top 10 catergories by installs? (In other words, For Top 10 categories, does having max apps translate into max installs?)"
   ]
  },
  {
   "cell_type": "code",
   "execution_count": 48,
   "id": "41cdfeb1-69b7-4a57-9f20-1fa2a744bd0b",
   "metadata": {
    "tags": []
   },
   "outputs": [
    {
     "data": {
      "text/html": [
       "<div>\n",
       "<style scoped>\n",
       "    .dataframe tbody tr th:only-of-type {\n",
       "        vertical-align: middle;\n",
       "    }\n",
       "\n",
       "    .dataframe tbody tr th {\n",
       "        vertical-align: top;\n",
       "    }\n",
       "\n",
       "    .dataframe thead th {\n",
       "        text-align: right;\n",
       "    }\n",
       "</style>\n",
       "<table border=\"1\" class=\"dataframe\">\n",
       "  <thead>\n",
       "    <tr style=\"text-align: right;\">\n",
       "      <th></th>\n",
       "      <th>category</th>\n",
       "      <th>count_of_apps</th>\n",
       "      <th>count_of_installs</th>\n",
       "    </tr>\n",
       "  </thead>\n",
       "  <tbody>\n",
       "    <tr>\n",
       "      <th>0</th>\n",
       "      <td>Tools</td>\n",
       "      <td>143972</td>\n",
       "      <td>71440321217</td>\n",
       "    </tr>\n",
       "    <tr>\n",
       "      <th>1</th>\n",
       "      <td>Entertainment</td>\n",
       "      <td>138266</td>\n",
       "      <td>17108504983</td>\n",
       "    </tr>\n",
       "    <tr>\n",
       "      <th>2</th>\n",
       "      <td>Productivity</td>\n",
       "      <td>79685</td>\n",
       "      <td>28314042263</td>\n",
       "    </tr>\n",
       "  </tbody>\n",
       "</table>\n",
       "</div>"
      ],
      "text/plain": [
       "        category  count_of_apps  count_of_installs\n",
       "0          Tools         143972        71440321217\n",
       "1  Entertainment         138266        17108504983\n",
       "2   Productivity          79685        28314042263"
      ]
     },
     "execution_count": 48,
     "metadata": {},
     "output_type": "execute_result"
    }
   ],
   "source": [
    "# Mering the above 2 datasets, showing only those rows which are in both above df's/variables.\n",
    "top_category=pd.merge(top_10_categories_by_apps, top_10_categories_by_installs, on='category', how='inner')\n",
    "top_category"
   ]
  },
  {
   "cell_type": "code",
   "execution_count": 49,
   "id": "788ee8b8-d769-42e8-a900-4264ce3cc827",
   "metadata": {
    "tags": []
   },
   "outputs": [
    {
     "data": {
      "image/png": "[encoded data removed]",
      "text/plain": [
       "<Figure size 1000x400 with 1 Axes>"
      ]
     },
     "metadata": {},
     "output_type": "display_data"
    }
   ],
   "source": [
    "# Plotting the graph for audiance\n",
    "\n",
    "# Some customization\n",
    "sns.set_style(\"dark\") # The background of figure\n",
    "sns.set_context(\"paper\") # Can be choose from 'paper', 'notebook', 'talk', 'poster'\n",
    "\n",
    "# Code for plot\n",
    "plt.figure(figsize=(10, 4))  # Set the figure size\n",
    "sns.barplot(x='count_of_installs', y='category', data=top_10_categories_by_installs, palette='pastel', order=top_10_categories_by_apps.category)\n",
    "plt.title('Category Installs')\n",
    "plt.xlabel('Installs')\n",
    "plt.ylabel('Categories')\n",
    "plt.show()"
   ]
  },
  {
   "cell_type": "markdown",
   "id": "77c9883e-84dc-41bb-a92c-b6b012bfaa40",
   "metadata": {},
   "source": [
    "* No, there are only 3 categories (Tools, Productivity, and Entertainment) out of 10, which fall in both top 10 categories by apps and top 10 categories by installs. This means that having maximum number of apps doesn't translate into maximum installs."
   ]
  },
  {
   "cell_type": "markdown",
   "id": "48bc7d0a-c30c-443f-9e27-29afaa5d06a7",
   "metadata": {},
   "source": [
    "### New Heading:"
   ]
  }
 ],
 "metadata": {
  "kernelspec": {
   "display_name": "Python 3 (ipykernel)",
   "language": "python",
   "name": "python3"
  },
  "language_info": {
   "codemirror_mode": {
    "name": "ipython",
    "version": 3
   },
   "file_extension": ".py",
   "mimetype": "text/x-python",
   "name": "python",
   "nbconvert_exporter": "python",
   "pygments_lexer": "ipython3",
   "version": "3.11.4"
  }
 },
 "nbformat": 4,
 "nbformat_minor": 5
}
